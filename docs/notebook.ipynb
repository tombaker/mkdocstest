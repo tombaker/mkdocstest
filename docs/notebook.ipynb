{
 "metadata": {
  "name": ""
 },
 "nbformat": 3,
 "nbformat_minor": 0,
 "worksheets": [
  {
   "cells": [
    {
     "cell_type": "heading",
     "level": 3,
     "metadata": {},
     "source": [
      "Installing PyYaml"
     ]
    },
    {
     "cell_type": "markdown",
     "metadata": {},
     "source": [
      "2013-10-19 Saturday morning\n",
      "\n",
      "<pre>\n",
      "curl -O http://github-media-downloads.s3.amazonaws.com/osx/git-credential-osxkeychain  - downloaded to $MACSOFT\n",
      "sudo cp -vi git-credential-osxkeychain /usr/local/bin\n",
      "sudo chmod u+x /usr/local/bin/git-credential-osxkeychain\n",
      "git config --global credential.helper osxkeychain\n",
      "~/cpu/agitrepos/pyyaml> python setup.py install\n",
      "</pre>"
     ]
    },
    {
     "cell_type": "heading",
     "level": 3,
     "metadata": {},
     "source": [
      "Rules file"
     ]
    },
    {
     "cell_type": "markdown",
     "metadata": {},
     "source": [
      "Here is an example Rules file\n",
      "\n",
      "<pre>\n",
      "0|.|lines|HUH|\n",
      "1|^FTMP|HUH|a| # Comment\n",
      "1|^=====|HUH|a|\n",
      "1|^====$|HUH|a|\n",
      "</pre>"
     ]
    },
    {
     "cell_type": "markdown",
     "metadata": {},
     "source": [
      "How about\n",
      "<pre>\n",
      "-\n",
      "  in_field:       1\n",
      "  match_on:       Test#test\n",
      "  in_sourcefile:  My File.txt\n",
      "  move_to_target: My File2.txt\n",
      "  sort_target_on: 3\n",
      "</pre>"
     ]
    },
    {
     "cell_type": "code",
     "collapsed": false,
     "input": [
      "import yaml\n",
      "rules = yaml.load(\"\"\"\n",
      "---\n",
      "-\n",
      "  in_field:       1\n",
      "  match_on:       Test#test\n",
      "  in_sourcefile:  My File.txt\n",
      "  move_to_target: My File2.txt\n",
      "  sort_target_on: 3\n",
      "-\n",
      "  in_field:       2\n",
      "  match_on:       NOW\n",
      "  in_sourcefile:  a\n",
      "  move_to_target: b\n",
      "  sort_target_on: 3\n",
      "\"\"\")\n",
      "print rules"
     ],
     "language": "python",
     "metadata": {},
     "outputs": [
      {
       "output_type": "stream",
       "stream": "stdout",
       "text": [
        "[{'match_on': 'Test#test', 'sort_target_on': 3, 'in_field': 1, 'in_sourcefile': 'My File.txt', 'move_to_target': 'My File2.txt'}, {'match_on': 'NOW', 'sort_target_on': 3, 'in_field': 2, 'in_sourcefile': 'a', 'move_to_target': 'b'}]\n"
       ]
      }
     ],
     "prompt_number": 5
    },
    {
     "cell_type": "code",
     "collapsed": false,
     "input": [
      "for rule in rules:\n",
      "    for key, value in rule.iteritems():\n",
      "        print \"match_on is \" rule['match_on']"
     ],
     "language": "python",
     "metadata": {},
     "outputs": [
      {
       "ename": "SyntaxError",
       "evalue": "invalid syntax (<ipython-input-16-3a7d7a1a9601>, line 3)",
       "output_type": "pyerr",
       "traceback": [
        "\u001b[0;36m  File \u001b[0;32m\"<ipython-input-16-3a7d7a1a9601>\"\u001b[0;36m, line \u001b[0;32m3\u001b[0m\n\u001b[0;31m    print \"match_on is \" rule['match_on']\u001b[0m\n\u001b[0m                            ^\u001b[0m\n\u001b[0;31mSyntaxError\u001b[0m\u001b[0;31m:\u001b[0m invalid syntax\n"
       ]
      }
     ],
     "prompt_number": 16
    },
    {
     "cell_type": "code",
     "collapsed": false,
     "input": [
      "for rule in rules:\n",
      "    for key in rule:\n",
      "        key = rule[key]\n",
      "        print key + key + key"
     ],
     "language": "python",
     "metadata": {},
     "outputs": [
      {
       "output_type": "stream",
       "stream": "stdout",
       "text": [
        "Test#testTest#testTest#test\n",
        "9\n",
        "3\n",
        "My File.txtMy File.txtMy File.txt\n",
        "My File2.txtMy File2.txtMy File2.txt\n",
        "NOWNOWNOW\n",
        "9\n",
        "6\n",
        "aaa\n",
        "bbb\n"
       ]
      }
     ],
     "prompt_number": 20
    },
    {
     "cell_type": "code",
     "collapsed": false,
     "input": [],
     "language": "python",
     "metadata": {},
     "outputs": []
    }
   ],
   "metadata": {}
  }
 ]
}